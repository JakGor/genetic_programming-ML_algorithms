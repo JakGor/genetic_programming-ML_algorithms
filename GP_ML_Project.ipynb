{
 "cells": [
  {
   "cell_type": "code",
   "execution_count": null,
   "metadata": {},
   "outputs": [],
   "source": [
    "import pandas as pd\n",
    "import seaborn as sns\n",
    "from scipy.stats import zscore\n",
    "import numpy as np\n",
    "#RF\n",
    "from sklearn.model_selection import train_test_split\n",
    "from sklearn.ensemble import RandomForestClassifier\n",
    "from sklearn.datasets import make_classification\n",
    "from sklearn.ensemble import RandomForestRegressor\n",
    "from sklearn.model_selection import RandomizedSearchCV\n",
    "from sklearn.svm import SVC\n",
    "from sklearn.preprocessing import StandardScaler\n",
    "from sklearn.metrics import confusion_matrix, accuracy_score\n",
    "#DT\n",
    "from sklearn.tree import DecisionTreeClassifier\n",
    "from sklearn import tree\n",
    "from sklearn import metrics\n",
    "import matplotlib.pyplot as plt\n",
    "import matplotlib.image as pltimg\n",
    "from sklearn.metrics import roc_curve\n",
    "from sklearn.metrics import roc_auc_score\n",
    "#KNN\n",
    "from sklearn.neighbors import KNeighborsRegressor\n",
    "from sklearn.neighbors import KNeighborsClassifier\n",
    "from sklearn.model_selection import GridSearchCV\n",
    "#Gen alg\n",
    "import random\n",
    "import warnings\n",
    "warnings.filterwarnings('ignore')\n",
    "\n"
   ]
  },
  {
   "cell_type": "code",
   "execution_count": null,
   "metadata": {},
   "outputs": [],
   "source": [
    "df = pd.read_csv ('CollegeDistance.csv', index_col=0)"
   ]
  },
  {
   "cell_type": "markdown",
   "metadata": {},
   "source": [
    "### Pierwszy moduł - usuwanie braków danych\n"
   ]
  },
  {
   "cell_type": "markdown",
   "metadata": {},
   "source": [
    "#### Usuwanie"
   ]
  },
  {
   "cell_type": "code",
   "execution_count": null,
   "metadata": {},
   "outputs": [],
   "source": [
    "def drop_NAs(df):\n",
    "    df=df.dropna()\n",
    "    return df"
   ]
  },
  {
   "cell_type": "markdown",
   "metadata": {},
   "source": [
    "#### Forward fill"
   ]
  },
  {
   "cell_type": "code",
   "execution_count": null,
   "metadata": {},
   "outputs": [],
   "source": [
    "def forward_fill(df):\n",
    "    df=df.fillna(method='ffill')\n",
    "    return df"
   ]
  },
  {
   "cell_type": "markdown",
   "metadata": {},
   "source": [
    "#### Backward_fill"
   ]
  },
  {
   "cell_type": "code",
   "execution_count": null,
   "metadata": {},
   "outputs": [],
   "source": [
    "def backward_fill(df):\n",
    "    df=df.fillna(method='bfill')\n",
    "    return df    "
   ]
  },
  {
   "cell_type": "markdown",
   "metadata": {},
   "source": [
    "### Drugi moduł - usuwanie outlierów"
   ]
  },
  {
   "cell_type": "markdown",
   "metadata": {},
   "source": [
    "#### Brak"
   ]
  },
  {
   "cell_type": "code",
   "execution_count": null,
   "metadata": {},
   "outputs": [],
   "source": [
    "def do_nothing(df):\n",
    "    return df"
   ]
  },
  {
   "cell_type": "markdown",
   "metadata": {},
   "source": [
    "#### Zasada trzech sigm"
   ]
  },
  {
   "cell_type": "code",
   "execution_count": null,
   "metadata": {},
   "outputs": [],
   "source": [
    "def three_sigmas(df):\n",
    "    z_scores = zscore(df[['score','unemp','wage','distance','tuition']])\n",
    "    abs_z_scores = np.abs(z_scores)\n",
    "    filtered_entries = (abs_z_scores < 3).all(axis=1)\n",
    "    new_df = df[filtered_entries]\n",
    "    return new_df"
   ]
  },
  {
   "cell_type": "markdown",
   "metadata": {},
   "source": [
    "#### Eliminacja za pomocą N-tego kwantyli"
   ]
  },
  {
   "cell_type": "code",
   "execution_count": null,
   "metadata": {},
   "outputs": [],
   "source": [
    "def n_quantile(df, kwantyl):\n",
    "    for column in ['score','unemp','wage','distance','tuition']:\n",
    "        filtered_entries = df[column].between(df[column].quantile(kwantyl), df[column].quantile(1-kwantyl))\n",
    "        new_df = df[filtered_entries]\n",
    "    return new_df    \n",
    "\n"
   ]
  },
  {
   "cell_type": "markdown",
   "metadata": {},
   "source": [
    "Dalszy kod przekształcający dane"
   ]
  },
  {
   "cell_type": "code",
   "execution_count": null,
   "metadata": {},
   "outputs": [],
   "source": [
    "def prepare_data(new_df):\n",
    "    #usuwam zmienne tekstowe\n",
    "    #ethnicity\n",
    "    new_df[\"IsAfam\"]=np.where(new_df.ethnicity==\"afam\", 1,0) \n",
    "    new_df[\"IsHispanic\"]=np.where(new_df.ethnicity==\"hispanic  \", 1,0) \n",
    "    new_df=new_df.drop(columns=\"ethnicity\")\n",
    "    #gender\n",
    "    new_df[\"IsFemale\"]=np.where(new_df.gender==\"female\", 1,0) \n",
    "    new_df=new_df.drop(columns=\"gender\")\n",
    "    new_df[\"Fcollege\"]=np.where(new_df.fcollege==\"yes\", 1,0) \n",
    "    new_df=new_df.drop(columns=\"fcollege\")\n",
    "    new_df[\"Mcollege\"]=np.where(new_df.mcollege==\"yes\", 1,0) \n",
    "    new_df=new_df.drop(columns=\"mcollege\")\n",
    "    new_df[\"Home\"]=np.where(new_df.home==\"yes\", 1,0) \n",
    "    new_df=new_df.drop(columns=\"home\")\n",
    "    new_df[\"Urban\"]=np.where(new_df.urban==\"yes\", 1,0) \n",
    "    new_df=new_df.drop(columns=\"urban\")\n",
    "    new_df[\"Income\"]=np.where(new_df.income==\"high\", 1,0) \n",
    "    new_df=new_df.drop(columns=\"income\")\n",
    "    new_df[\"IsWest\"]=np.where(new_df.region==\"west\", 1,0) \n",
    "    new_df=new_df.drop(columns=\"region\")\n",
    "    return new_df\n",
    "\n",
    "\n"
   ]
  },
  {
   "cell_type": "markdown",
   "metadata": {},
   "source": [
    "### Funkcja dopasowania - accuracy"
   ]
  },
  {
   "cell_type": "code",
   "execution_count": null,
   "metadata": {},
   "outputs": [],
   "source": [
    "def print_accuracy(y_test,y_pred):\n",
    "    return metrics.accuracy_score(y_test, y_pred)"
   ]
  },
  {
   "cell_type": "markdown",
   "metadata": {},
   "source": [
    "### Trzeci moduł - model uczenia maszynowego"
   ]
  },
  {
   "cell_type": "markdown",
   "metadata": {},
   "source": [
    "#### KNN"
   ]
  },
  {
   "cell_type": "code",
   "execution_count": null,
   "metadata": {},
   "outputs": [],
   "source": [
    "def calculate_knn_errors():\n",
    "    error = []\n",
    "\n",
    "    # Calculating error for K values between 1 and 40\n",
    "    for i in range(1, 40):\n",
    "        knn = KNeighborsClassifier(n_neighbors=i)\n",
    "        knn.fit(X_train, y_train)\n",
    "        pred_i = knn.predict(X_test)\n",
    "        error.append(np.mean(pred_i != y_test))\n",
    "    \n",
    "    return error"
   ]
  },
  {
   "cell_type": "code",
   "execution_count": null,
   "metadata": {},
   "outputs": [],
   "source": [
    "def choose_best_k(err):\n",
    "    best_k = 0\n",
    "    mean_err = 1\n",
    "\n",
    "    for i in range(0, len(err)):\n",
    "        if(err[i]<mean_err):\n",
    "            mean_err = err[i]\n",
    "            best_k = i + 1\n",
    "            \n",
    "    return best_k"
   ]
  },
  {
   "cell_type": "code",
   "execution_count": null,
   "metadata": {},
   "outputs": [],
   "source": [
    "def randomize_k():\n",
    "    randomized_k = random.randint(1,40)\n",
    "    return randomized_k "
   ]
  },
  {
   "cell_type": "code",
   "execution_count": null,
   "metadata": {},
   "outputs": [],
   "source": [
    "def knn(k,X_train, X_test, y_train, y_test):\n",
    "    knn1 = KNeighborsClassifier(n_neighbors=k)\n",
    "    knn_fit = knn1.fit(X_train, y_train)\n",
    "    return knn_fit"
   ]
  },
  {
   "cell_type": "code",
   "execution_count": null,
   "metadata": {},
   "outputs": [],
   "source": [
    "def calculate_y_pred(model,X_train, X_test, y_train, y_test):   \n",
    "    pred_i1 = model.predict(X_test)   \n",
    "    return pred_i1"
   ]
  },
  {
   "cell_type": "markdown",
   "metadata": {},
   "source": [
    "#### Random Forest"
   ]
  },
  {
   "cell_type": "code",
   "execution_count": null,
   "metadata": {},
   "outputs": [],
   "source": [
    "def create_random_grid():\n",
    "    # Liczba drzew\n",
    "    n_estimators = [20,50,100,200,500]\n",
    "    # Liczba cech brana za każdym razem pod uwagę\n",
    "    max_features = [2,3,4,5]\n",
    "    # Maksymalna liczba liści\n",
    "    max_leaf_nodes = [2, 5, 10,15]\n",
    "    # Minimalna wielkość liścia\n",
    "    min_samples_leaf = [1, 2, 4,8]\n",
    "\n",
    "    random_grid = {'n_estimators': n_estimators,\n",
    "                   'max_features': max_features,\n",
    "                   'max_leaf_nodes': max_leaf_nodes,\n",
    "                   'min_samples_leaf': min_samples_leaf}\n",
    "    \n",
    "    return random_grid"
   ]
  },
  {
   "cell_type": "code",
   "execution_count": null,
   "metadata": {},
   "outputs": [],
   "source": [
    "def randomized_grid(): #Forma mutacji - losowanie siatki do random forest\n",
    "    # Liczba drzew\n",
    "    n_estimators = [random.randint(10,200)]\n",
    "    # Liczba cech brana za każdym razem pod uwagę\n",
    "    max_features = [random.randint(2,7)]\n",
    "    # Maksymalna liczba liści\n",
    "    max_leaf_nodes = [random.randint(2,30)]\n",
    "    # Minimalna wielkość liścia\n",
    "    min_samples_leaf = [random.randint(1,10)]\n",
    "\n",
    "    random_grid = {'n_estimators': n_estimators,\n",
    "                   'max_features': max_features,\n",
    "                   'max_leaf_nodes': max_leaf_nodes,\n",
    "                   'min_samples_leaf': min_samples_leaf}\n",
    "    \n",
    "    return random_grid\n"
   ]
  },
  {
   "cell_type": "code",
   "execution_count": null,
   "metadata": {},
   "outputs": [],
   "source": [
    "def rf_fit(rand_grid,X_train, X_test, y_train, y_test):\n",
    "    rf = RandomForestClassifier(random_state = 42)\n",
    "    randomForest = RandomizedSearchCV(estimator = rf, param_distributions = rand_grid, n_iter = 5, cv = 3, verbose=0, random_state=1)\n",
    "    randomForest_fit = randomForest.fit(X_train, y_train)\n",
    "    \n",
    "    return randomForest_fit"
   ]
  },
  {
   "cell_type": "code",
   "execution_count": null,
   "metadata": {},
   "outputs": [],
   "source": [
    "def choose_best_estim(rf_fit_model):\n",
    "    bestRF = rf_fit_model.best_estimator_\n",
    "    \n",
    "    return bestRF"
   ]
  },
  {
   "cell_type": "markdown",
   "metadata": {},
   "source": [
    "#### Decision tree"
   ]
  },
  {
   "cell_type": "code",
   "execution_count": null,
   "metadata": {},
   "outputs": [],
   "source": [
    "def decicion_tree(X_train, X_test, y_train, y_test):\n",
    "    dtree = DecisionTreeClassifier()#criterion=\"entropy\", max_depth=3)\n",
    "    dtree_fit = dtree.fit(X_train, y_train)\n",
    "    \n",
    "    return dtree_fit"
   ]
  },
  {
   "cell_type": "code",
   "execution_count": null,
   "metadata": {},
   "outputs": [],
   "source": [
    "def randomized_decicion_tree(X_train, X_test, y_train, y_test):\n",
    "    dtree = DecisionTreeClassifier(criterion=\"entropy\",splitter=\"random\")\n",
    "    dtree_fit = dtree.fit(X_train, y_train)\n",
    "    \n",
    "    return dtree_fit"
   ]
  },
  {
   "cell_type": "markdown",
   "metadata": {},
   "source": [
    "#### SVM"
   ]
  },
  {
   "cell_type": "code",
   "execution_count": 22,
   "metadata": {},
   "outputs": [],
   "source": [
    "def svm(X_train, X_test, y_train, y_test):\n",
    "    sc = StandardScaler()\n",
    "    X_train_SVC = sc.fit_transform(X_train)\n",
    "    X_test_SVC = sc.transform(X_test)\n",
    "    classifier = SVC(kernel = 'linear', gamma=\"auto\")\n",
    "    svm_fit1 = classifier.fit(X_train, y_train)\n",
    "    \n",
    "    return svm_fit1"
   ]
  },
  {
   "cell_type": "code",
   "execution_count": 23,
   "metadata": {},
   "outputs": [],
   "source": [
    "def randomized_svm(X_train, X_test, y_train, y_test):\n",
    "    sc = StandardScaler()\n",
    "    X_train_SVC = sc.fit_transform(X_train)\n",
    "    X_test_SVC = sc.transform(X_test)\n",
    "    classifier = SVC(kernel = 'rbf', gamma=\"auto\", max_iter=random.randint(1,10))\n",
    "    svm_fit1 = classifier.fit(X_train, y_train)\n",
    "    \n",
    "    return svm_fit1"
   ]
  },
  {
   "cell_type": "markdown",
   "metadata": {},
   "source": [
    "## Część genetyczna"
   ]
  },
  {
   "cell_type": "markdown",
   "metadata": {},
   "source": [
    "### Kodowanie cech"
   ]
  },
  {
   "cell_type": "markdown",
   "metadata": {},
   "source": [
    "#### Etap I"
   ]
  },
  {
   "cell_type": "code",
   "execution_count": 24,
   "metadata": {},
   "outputs": [],
   "source": [
    "def usun_na(genotype,df):\n",
    "    if genotype[0]==0:\n",
    "        df=drop_NAs(df)\n",
    "        return df\n",
    "    elif genotype[0]==1:\n",
    "        df=forward_fill(df)\n",
    "        return df\n",
    "    else:\n",
    "        df=backward_fill(df)\n",
    "        return df   "
   ]
  },
  {
   "cell_type": "markdown",
   "metadata": {},
   "source": [
    "#### Etap II"
   ]
  },
  {
   "cell_type": "code",
   "execution_count": 25,
   "metadata": {},
   "outputs": [],
   "source": [
    "def usun_outliery(genotype,df):\n",
    "    if genotype[1]==0:\n",
    "        new_df=do_nothing(df)\n",
    "        return new_df\n",
    "    elif genotype[1]==1:\n",
    "        new_df=three_sigmas(df)\n",
    "        return new_df\n",
    "    else:\n",
    "        new_df=n_quantile(df,0.1)\n",
    "        return new_df  "
   ]
  },
  {
   "cell_type": "markdown",
   "metadata": {},
   "source": [
    "#### Etap III"
   ]
  },
  {
   "cell_type": "code",
   "execution_count": 26,
   "metadata": {},
   "outputs": [],
   "source": [
    "def uzyskaj_wynik(genotype,X_train, X_test, y_train, y_test):\n",
    "    if genotype[2]==0:\n",
    "        err_knn = calculate_knn_errors()\n",
    "        if genotype[3]==False:\n",
    "            knn_classifier = knn(choose_best_k(err_knn),X_train, X_test, y_train, y_test)\n",
    "        else:\n",
    "            knn_classifier = knn(randomize_k(),X_train, X_test, y_train, y_test)\n",
    "\n",
    "        pred_y_knn = calculate_y_pred(knn_classifier,X_train, X_test, y_train, y_test)\n",
    "        return pred_y_knn\n",
    "    elif genotype[2]==1:\n",
    "        if genotype[3]==False:\n",
    "            svm_fit = svm(X_train, X_test, y_train, y_test)\n",
    "        else:\n",
    "            svm_fit = randomized_svm(X_train, X_test, y_train, y_test)    \n",
    "        y_pred_svm = calculate_y_pred(svm_fit,X_train, X_test, y_train, y_test)\n",
    "        return y_pred_svm\n",
    "    elif genotype[2]==2:\n",
    "        if genotype[3]==False:\n",
    "            est_rf = choose_best_estim(rf_fit(create_random_grid(),X_train, X_test, y_train, y_test))\n",
    "        else:\n",
    "            est_rf = choose_best_estim(rf_fit(randomized_grid(),X_train, X_test, y_train, y_test))    \n",
    "        y_pred_rf = calculate_y_pred(est_rf,X_train, X_test, y_train, y_test)\n",
    "        return y_pred_rf\n",
    "    else:\n",
    "        if genotype[3]==False:\n",
    "            dt_fit = decicion_tree(X_train, X_test, y_train, y_test)\n",
    "        else:\n",
    "            dt_fit = randomized_decicion_tree(X_train, X_test, y_train, y_test)    \n",
    "        y_pred_dt = calculate_y_pred(dt_fit,X_train, X_test, y_train, y_test)\n",
    "        return y_pred_dt\n",
    "    \n",
    "        "
   ]
  },
  {
   "cell_type": "markdown",
   "metadata": {},
   "source": [
    "#### Funkcja dopasowania"
   ]
  },
  {
   "cell_type": "code",
   "execution_count": 27,
   "metadata": {},
   "outputs": [],
   "source": [
    "def fitness_function(genotypes,genotype_count,df):\n",
    "    accuracy_list = [] #Tworzę listę \n",
    "    for i in range(genotype_count): #dla każdego i tego genotypu\n",
    "        df = pd.read_csv ('CollegeDistance.csv', index_col=0)\n",
    "        df= usun_na(genotypes[i],df)\n",
    "        new_df = usun_outliery(genotypes[i],df)\n",
    "        new_df= prepare_data(new_df)\n",
    "        \n",
    "        #Tworzę zmienną y\n",
    "        i = new_df.education > 14  \n",
    "        new_df[\"DalszaEdukacja\"]=np.where(i, 1,0) \n",
    "        X=new_df.drop(columns=\"education\")\n",
    "        y=X[\"DalszaEdukacja\"]\n",
    "        X=X.drop(columns=\"DalszaEdukacja\")\n",
    "        i=0\n",
    "        X_train, X_test, y_train, y_test = train_test_split(X, y, test_size=0.3, random_state=3)\n",
    "        y_przewidywane = uzyskaj_wynik(genotypes[i], X_train, X_test, y_train, y_test)\n",
    "        accuracy_list.append(print_accuracy(y_test,y_przewidywane))\n",
    "    return accuracy_list"
   ]
  },
  {
   "cell_type": "markdown",
   "metadata": {},
   "source": [
    "#### Turniej"
   ]
  },
  {
   "cell_type": "code",
   "execution_count": 28,
   "metadata": {},
   "outputs": [],
   "source": [
    "#Turniej\n",
    "def function_tournament(genotype_count,accuracy_list):\n",
    "    parents=[]\n",
    "    for i in range(2):\n",
    "        para=random.sample(range(genotype_count), 2) # wybieramy pierwszych konkurentow - zwyciezca pojedynku zostaje rodzicem\n",
    "        if accuracy_list[para[0]] > accuracy_list[para[1]]: \n",
    "            parents.append(para[0]) #jezeli suma jest większa dla konkurenta 0 to on zostaje rodzicem\n",
    "        else:\n",
    "            parents.append(para[1])    \n",
    "    return parents #zwracam \n"
   ]
  },
  {
   "cell_type": "markdown",
   "metadata": {},
   "source": [
    "#### Krzyżowanie"
   ]
  },
  {
   "cell_type": "code",
   "execution_count": 29,
   "metadata": {},
   "outputs": [],
   "source": [
    "#Funkcja Krzyżuj\n",
    "def function_cross(genotypes,genotype_length,parents, child_population):\n",
    "    cross_point=random.randrange(genotype_length-1) #Wylosuj punkt krzyżowania\n",
    "    gensA = [] #lista genów I potomka\n",
    "    gensB = [] #lista genow II potomka \n",
    "    #print(cross_point)\n",
    "    if random.random()<0.9: #jezeli wylosowano ze ma byc krzyzowanie\n",
    "        for i in range(0,cross_point): #od zerowego genu do miejsca krzyzowki\n",
    "            gensA.append(genotypes[parents[0]][i]) \n",
    "            gensB.append(genotypes[parents[1]][i])  \n",
    "        \n",
    "        for i in range(cross_point,genotype_length-1): #od miejsca krzyzowki do ostatniego genu\n",
    "            gensA.append(genotypes[parents[1]][i]) \n",
    "            gensB.append(genotypes[parents[0]][i]) \n",
    "        gensA.append(False) #Dodanie genów odpowiadających za mutację - domyślnie fałsz \n",
    "        gensB.append(False)\n",
    "        child_population.append(gensA) #dodaj potomków do przekazanej listy z nową populacją\n",
    "        child_population.append(gensB)\n",
    "        #print(child_population[0]) \n",
    "    else: #gdy krzyzowanie nie zachodzi\n",
    "        child_population.append(genotypes[parents[0]]) #jako potomkow dodaj po prostu rodzicow, bo brak zmian\n",
    "        child_population.append(genotypes[parents[1]])    \n",
    "    return child_population #zwroc uzupelniona liste"
   ]
  },
  {
   "cell_type": "markdown",
   "metadata": {},
   "source": [
    "#### Mutacja"
   ]
  },
  {
   "cell_type": "code",
   "execution_count": 30,
   "metadata": {},
   "outputs": [],
   "source": [
    "#Funkcja mutująca\n",
    "def function_mutate(p_mute, genotype_count, child_population):\n",
    "    for i in range(genotype_count): #Dla każdego z genotypów:\n",
    "        pr = random.random() #Losuj prawdopodobieństwo mutowania\n",
    "        if pr < p_mute: #Jeśli zachodzi mutacja..\n",
    "            child_population[i][3]=True #..Ustawiam gen odpowiadający za mutowanie na true\n",
    "\n",
    "    return child_population"
   ]
  },
  {
   "cell_type": "markdown",
   "metadata": {},
   "source": [
    "### Pętla główna"
   ]
  },
  {
   "cell_type": "markdown",
   "metadata": {},
   "source": [
    "#### Inicjacja"
   ]
  },
  {
   "cell_type": "code",
   "execution_count": 31,
   "metadata": {},
   "outputs": [
    {
     "name": "stdout",
     "output_type": "stream",
     "text": [
      "[0, 1, 2, False]\n",
      "[0, 2, 3, False]\n",
      "[2, 0, 0, False]\n",
      "[0, 1, 3, False]\n",
      "[0, 2, 2, False]\n",
      "[2, 1, 2, False]\n",
      "[2, 0, 3, False]\n",
      "[2, 0, 0, False]\n",
      "[2, 0, 2, False]\n",
      "[0, 1, 0, False]\n"
     ]
    }
   ],
   "source": [
    "\n",
    "genotype_length = 4\n",
    "genotype_count = 10\n",
    "genotypes = []\n",
    "p_mute = 0.6\n",
    "liczba_pokolen = 3\n",
    "for i in range(genotype_count):\n",
    "    genotypes.append([random.randint(0, 2),random.randint(0, 2),random.randint(0, 3),False])    \n",
    "for i in range(genotype_count):\n",
    "        print(genotypes[i])\n",
    "    \n",
    "    "
   ]
  },
  {
   "cell_type": "markdown",
   "metadata": {},
   "source": [
    "#### Przebieg właściwy"
   ]
  },
  {
   "cell_type": "code",
   "execution_count": 32,
   "metadata": {},
   "outputs": [],
   "source": [
    "f = open('output.txt', 'w') \n",
    "df = pd.read_csv ('CollegeDistance.csv', index_col=0)\n",
    "accuracy_list=fitness_function(genotypes,genotype_count,df)\n",
    "poczatkowe_max = max(accuracy_list)\n",
    "for licznik in range(liczba_pokolen):\n",
    "    print(\"Pokolenie nr: \",licznik,\" ,liczba genotypów: \",genotype_count, file=f)\n",
    "    for i in range(genotype_count): \n",
    "        print(genotypes[i], file=f) \n",
    "    print(\"Wartości funkcji dopasowania:\", file=f)\n",
    "    print(accuracy_list, file=f)    \n",
    "    for i in range(4):\n",
    "        index = accuracy_list.index(min(accuracy_list))\n",
    "        accuracy_list.remove(min(accuracy_list))\n",
    "        genotypes.remove(genotypes[index])\n",
    "        genotype_count = genotypes.__len__()\n",
    "        if genotype_count == 6:\n",
    "            break\n",
    "    print(\"Liczba genotypów po selekcji: \",genotype_count, file=f)    \n",
    "    rodzice = []\n",
    "    populacja_dzieci = []\n",
    "    for i in range(5):\n",
    "        rodzice.append(function_tournament(genotype_count,accuracy_list))\n",
    "    for i in range(5):\n",
    "                function_cross(genotypes,genotype_length,rodzice[i],populacja_dzieci)\n",
    "\n",
    "    populacja_dzieci = function_mutate(p_mute,populacja_dzieci.__len__(),populacja_dzieci) #mutowanie\n",
    "    accuracy_list_dzieci =fitness_function(populacja_dzieci,populacja_dzieci.__len__(),df) #otrzymaj listę sum\n",
    "    print(\"Populacja dzieci pokolenia \",licznik, file=f)\n",
    "    for i in range(populacja_dzieci.__len__()): \n",
    "        print(populacja_dzieci[i], file=f) \n",
    "    nowa_populacja = []\n",
    "    accuracy_list_nowa_populacja = [] #w celu oszczędzenia liczby obliczeń odtwarzam również listę z wartościami dopasowania osobników\n",
    "    for i in range(7): #WDopisujemy do nowej popualcji 7 dzieci o największej sumie\n",
    "        index = accuracy_list_dzieci.index(max(accuracy_list_dzieci)) #znajdź indeks genotypu dziecka o najwększej sumie\n",
    "        nowa_populacja.append(populacja_dzieci[index]) #dodaj dziecko o największej sumie do nowej populacji\n",
    "        accuracy_list_nowa_populacja.append(accuracy_list_dzieci[index])\n",
    "        accuracy_list_dzieci.remove(max(accuracy_list_dzieci)) #usuń go z listy sum\n",
    "        populacja_dzieci.remove(populacja_dzieci[index]) #usuń go z listy dzieci\n",
    "        \n",
    "\n",
    "\n",
    "    index=accuracy_list.index(max(accuracy_list)) #znajdź indeks genotypu (rodzica) o najwększej sumie \n",
    "    nowa_populacja.append(genotypes[index])  #dodaj go do nowej populacji \n",
    "    accuracy_list_nowa_populacja.append(accuracy_list[index])\n",
    "    genotype_count = nowa_populacja.__len__() \n",
    "    genotypes = nowa_populacja\n",
    "    accuracy_list = accuracy_list_nowa_populacja\n",
    "print(\"Wartość funkcji dopasowania otrzymana za pomocąprogramu genetycznego: \",max(accuracy_list),file=f)\n",
    "print(\"Wartość funkcji dopasowania bez wykorzystania programu genetycznego: \",poczatkowe_max,file=f)        \n",
    "f.close()    "
   ]
  },
  {
   "cell_type": "code",
   "execution_count": null,
   "metadata": {},
   "outputs": [],
   "source": []
  }
 ],
 "metadata": {
  "kernelspec": {
   "display_name": "Python 3",
   "language": "python",
   "name": "python3"
  },
  "language_info": {
   "codemirror_mode": {
    "name": "ipython",
    "version": 3
   },
   "file_extension": ".py",
   "mimetype": "text/x-python",
   "name": "python",
   "nbconvert_exporter": "python",
   "pygments_lexer": "ipython3",
   "version": "3.7.1"
  }
 },
 "nbformat": 4,
 "nbformat_minor": 2
}
